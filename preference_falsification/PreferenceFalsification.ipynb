{
 "cells": [
  {
   "cell_type": "code",
   "execution_count": 1,
   "metadata": {},
   "outputs": [],
   "source": [
    "import numpy as np"
   ]
  },
  {
   "cell_type": "code",
   "execution_count": 2,
   "metadata": {},
   "outputs": [],
   "source": [
    "import string\n",
    "from typing import Dict\n",
    "\n",
    "generic_topics = list(string.ascii_uppercase)\n",
    "\n",
    "class UniformPerson:\n",
    "    def __init__(self):\n",
    "        self.rhetoric_ability = np.random.rand()\n",
    "        self.beliefs: Dict[str, float] = dict(zip(generic_topics, np.random.uniform(-1.0, 1.0, size=len(generic_topics))))\n",
    "    def __repr__(self):\n",
    "        return f'UniformPerson(rhetoric_ability={self.rhetoric_ability}, beliefs={self.beliefs}'"
   ]
  },
  {
   "cell_type": "code",
   "execution_count": 3,
   "metadata": {},
   "outputs": [
    {
     "data": {
      "text/plain": [
       "UniformPerson(rhetoric_ability=0.804938609272955, beliefs={'A': 0.44811090733124037, 'B': 0.8934113151768162, 'C': -0.7157341543638891, 'D': 0.09070980209085944, 'E': -0.028369372633911594, 'F': 0.0390291014113926, 'G': 0.802331840234068, 'H': -0.042389227927336126, 'I': -0.5499167192189014, 'J': 0.4954973405501051, 'K': 0.8848747910534733, 'L': -0.7080761352911351, 'M': -0.4275707113788667, 'N': -0.517303424096182, 'O': -0.4722750354911711, 'P': 0.448906357863744, 'Q': -0.38985103702805923, 'R': 0.8165730603718186, 'S': -0.9118797553703901, 'T': 0.07322033941276218, 'U': -0.6926107056327009, 'V': 0.9196299524332996, 'W': 0.8222859032976921, 'X': -0.5293250397905129, 'Y': -0.05506328623062484, 'Z': -0.7261885007720743}"
      ]
     },
     "execution_count": 3,
     "metadata": {},
     "output_type": "execute_result"
    }
   ],
   "source": [
    "UniformPerson()"
   ]
  },
  {
   "cell_type": "code",
   "execution_count": 4,
   "metadata": {},
   "outputs": [],
   "source": [
    "%matplotlib inline\n",
    "import matplotlib.pyplot as plt\n",
    "\n",
    "def display(belief_distribution):\n",
    "    x = [i for i in range(len(generic_topics))]\n",
    "    y = [belief_distribution[T] for T in generic_topics]\n",
    "    plt.scatter(x, y)    "
   ]
  },
  {
   "cell_type": "code",
   "execution_count": 5,
   "metadata": {},
   "outputs": [
    {
     "data": {
      "image/png": "[encoded data removed]",
      "text/plain": [
       "<Figure size 432x288 with 1 Axes>"
      ]
     },
     "metadata": {
      "needs_background": "light"
     },
     "output_type": "display_data"
    }
   ],
   "source": [
    "p = UniformPerson()\n",
    "\n",
    "display(p.beliefs)"
   ]
  },
  {
   "cell_type": "code",
   "execution_count": 6,
   "metadata": {},
   "outputs": [],
   "source": [
    "import itertools \n",
    "\n",
    "def population(SomePerson, N):\n",
    "    return [SomePerson() for i in range(N)]"
   ]
  },
  {
   "cell_type": "code",
   "execution_count": 15,
   "metadata": {},
   "outputs": [],
   "source": [
    "def flip(success_threshold):\n",
    "    return np.random.rand() < success_threshold\n",
    "\n",
    "def choose_topic(topics=generic_topics):\n",
    "    topic_idx = np.random.choice(len(topics))\n",
    "    return topics[topic_idx]\n",
    "\n",
    "def rhetoric_wins(pair):\n",
    "    u, v = pair\n",
    "    return flip(u.rhetoric_ability)\n",
    "        \n",
    "def update(sophist, listener, topic, lr=0.5):\n",
    "    direction = -1 if sophist.beliefs[topic] < 0 else 1\n",
    "    listener.beliefs[topic] += direction * sophist.rhetoric_ability * lr \n",
    "    if listener.beliefs[topic] > 1:\n",
    "        listener.beliefs[topic] = 1\n",
    "    if listener.beliefs[topic] < -1:\n",
    "        listener.beliefs[topic] = -1\n",
    "    "
   ]
  },
  {
   "cell_type": "code",
   "execution_count": 16,
   "metadata": {},
   "outputs": [],
   "source": [
    "def average_beliefs(population):\n",
    "    averages = np.mean(np.array([np.array(list(p.beliefs.values())) for p in population]), axis=0)\n",
    "    return dict(zip(generic_topics, averages))"
   ]
  },
  {
   "cell_type": "code",
   "execution_count": 17,
   "metadata": {},
   "outputs": [],
   "source": [
    "N = 1000\n",
    "num_events = N*N\n",
    "\n",
    "pop = population(UniformPerson, N)"
   ]
  },
  {
   "cell_type": "code",
   "execution_count": 18,
   "metadata": {},
   "outputs": [],
   "source": [
    "choices = np.random.choice(N, 2*num_events)\n",
    "topic_sequence = np.random.choice(len(generic_topics), 2*num_events)"
   ]
  },
  {
   "cell_type": "code",
   "execution_count": 19,
   "metadata": {},
   "outputs": [],
   "source": [
    "pairs = [(choices[i], choices[i+1]) for i in range(len(choices)-1) if choices[i] != choices[i+1]]"
   ]
  },
  {
   "cell_type": "code",
   "execution_count": 20,
   "metadata": {},
   "outputs": [
    {
     "data": {
      "image/png": "[encoded data removed]",
      "text/plain": [
       "<Figure size 432x288 with 1 Axes>"
      ]
     },
     "metadata": {
      "needs_background": "light"
     },
     "output_type": "display_data"
    }
   ],
   "source": [
    "before = average_beliefs(pop)\n",
    "display(before)"
   ]
  },
  {
   "cell_type": "code",
   "execution_count": 21,
   "metadata": {},
   "outputs": [],
   "source": [
    "for i, pair_index in enumerate(choices):\n",
    "    i, j = pairs[pair_index]\n",
    "    topic = generic_topics[topic_sequence[i]]\n",
    "#     if rhetoric_wins((pop[i], pop[j])):\n",
    "    update(pop[i], pop[j], topic)"
   ]
  },
  {
   "cell_type": "code",
   "execution_count": 22,
   "metadata": {},
   "outputs": [
    {
     "data": {
      "image/png": "[encoded data removed]",
      "text/plain": [
       "<Figure size 432x288 with 1 Axes>"
      ]
     },
     "metadata": {
      "needs_background": "light"
     },
     "output_type": "display_data"
    }
   ],
   "source": [
    "display(average_beliefs(pop))"
   ]
  },
  {
   "cell_type": "code",
   "execution_count": null,
   "metadata": {},
   "outputs": [],
   "source": []
  },
  {
   "cell_type": "code",
   "execution_count": null,
   "metadata": {},
   "outputs": [],
   "source": []
  }
 ],
 "metadata": {
  "kernelspec": {
   "display_name": "Python 3",
   "language": "python",
   "name": "python3"
  },
  "language_info": {
   "codemirror_mode": {
    "name": "ipython",
    "version": 3
   },
   "file_extension": ".py",
   "mimetype": "text/x-python",
   "name": "python",
   "nbconvert_exporter": "python",
   "pygments_lexer": "ipython3",
   "version": "3.7.7"
  }
 },
 "nbformat": 4,
 "nbformat_minor": 4
}
